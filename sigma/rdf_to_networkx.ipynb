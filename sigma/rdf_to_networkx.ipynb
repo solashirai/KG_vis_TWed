{
 "cells": [
  {
   "cell_type": "code",
   "execution_count": 1,
   "id": "initial_id",
   "metadata": {
    "ExecuteTime": {
     "end_time": "2024-03-26T18:52:20.685640900Z",
     "start_time": "2024-03-26T18:52:20.418641500Z"
    }
   },
   "outputs": [],
   "source": [
    "from rdflib import Graph, URIRef, Literal\n",
    "from rdflib.namespace import RDFS\n",
    "from typing import List, Dict, Set, Tuple\n",
    "import networkx as nx\n",
    "from collections import defaultdict\n",
    "from utils import *\n",
    "import random\n",
    "from ipysigma import Sigma"
   ]
  },
  {
   "cell_type": "code",
   "execution_count": 2,
   "id": "cdb3a1d086c09140",
   "metadata": {
    "collapsed": false,
    "jupyter": {
     "outputs_hidden": false
    }
   },
   "outputs": [],
   "source": [
    "def my_rdflib_to_networkx(kg: Graph, \n",
    "                      custom_node_labels: Dict[URIRef, str] = dict(),\n",
    "                      custom_edge_labels: Dict[Tuple[URIRef, URIRef], str] = dict(),\n",
    "                      custom_node_sizes: Dict[URIRef, float] = dict()) -> nx.DiGraph:\n",
    "    node_labels = {}\n",
    "    for s,o in kg.subject_objects(predicate=RDFS.label):\n",
    "        node_labels[s] = o.value\n",
    "    # any label defined in custom_node_labels will have priority\n",
    "    # node_labels |= custom_node_labels # this op requires higher python version (3.10+?) for dicts\n",
    "    \n",
    "    g = nx.MultiDiGraph()\n",
    "\n",
    "    edges = set()\n",
    "    edge_labels = defaultdict(lambda: set())\n",
    "    connecting_edges = []\n",
    "    path_edges = []\n",
    "    for (s, p, o) in kg:\n",
    "        #if p != RDFS.label:\n",
    "        # including literals in the graph seems to cause issues\n",
    "        if not isinstance(o, Literal) and not isinstance(s, Literal):\n",
    "            edge_lab = node_labels.get(p, \"\")\n",
    "            if (s, o) in custom_edge_labels:\n",
    "                edge_lab = custom_edge_labels[(s, o)] + edge_lab\n",
    "            edges.add((s, o))\n",
    "            edge_labels[(s, o)].add(edge_lab)\n",
    "    # workaround to handle cases where multiple edges exist\n",
    "    # multidigraph causes problems with ipysigma\n",
    "    edge_labels = dict(edge_labels)\n",
    "    edges = [(e[0], e[1], {\"label\": ', '.join(list(edge_labels.get(e, '')))}) for e in edges]\n",
    "\n",
    "    g.add_edges_from(edges)\n",
    "    for n in g.nodes:\n",
    "        if n not in node_labels:\n",
    "            node_labels[n] = \"\"\n",
    "\n",
    "    # make nodes with more edges larger\n",
    "    node_sizes = dict(g.degree)\n",
    "    for k, v in custom_node_sizes.items():\n",
    "        node_sizes[k] += v\n",
    "\n",
    "    edge_colors = {k: \"property\" for k in g.edges}\n",
    "    node_colors = {n: \"entity\" for n in g.nodes}\n",
    "    edge_sizes = {k: 1 for k in g.edges}\n",
    "\n",
    "    for e in connecting_edges:\n",
    "        edge_colors[e] = \"connection\"\n",
    "        edge_sizes[e] = 2\n",
    "        node_colors[e[0]] = \"cause-effect\"\n",
    "        node_colors[e[1]] = \"cause-effect\"\n",
    "    return g, node_sizes, edge_sizes, node_labels, node_colors, edge_colors\n",
    "\n",
    "def setup_sigma_graph(kg: Graph, \n",
    "                      custom_node_labels: Dict[URIRef, str] = dict(),\n",
    "                      custom_edge_labels: Dict[Tuple[URIRef, URIRef], str] = dict(),\n",
    "                      custom_node_sizes: Dict[URIRef, float] = dict()) -> Sigma:\n",
    "    g, node_sizes, edge_sizes, node_labels, node_colors, edge_colors = my_rdflib_to_networkx(kg, custom_node_labels, custom_edge_labels, custom_node_sizes)\n",
    "\n",
    "    return Sigma(g, node_size=node_sizes, edge_size=edge_sizes,\n",
    "                 label_density=2, # show_all_labels=True,\n",
    "                 default_edge_type=\"arrow\", node_border_color_from=\"node\",\n",
    "                 node_label=node_labels,\n",
    "                 node_color=node_colors, edge_color=edge_colors, )\n"
   ]
  },
  {
   "cell_type": "code",
   "execution_count": 5,
   "id": "68453738-b148-4948-a419-6e2579708ab6",
   "metadata": {},
   "outputs": [
    {
     "data": {
      "application/vnd.jupyter.widget-view+json": {
       "model_id": "7f65d029691f48f38a2ab276c22dee92",
       "version_major": 2,
       "version_minor": 0
      },
      "text/plain": [
       "Sigma(nx.MultiDiGraph with 9 nodes and 13 edges)"
      ]
     },
     "execution_count": 5,
     "metadata": {},
     "output_type": "execute_result"
    }
   ],
   "source": [
    "from rdflib.extras.external_graph_libs import rdflib_to_networkx_multidigraph\n",
    "# example of using the basic rdflib_to_networkx_multidigraph from rdflib\n",
    "g = Graph()\n",
    "g.parse((DATA_DIR / \"pred_path.ttl\").resolve())\n",
    "# keeping Literal nodes causes issues for sigma\n",
    "removeset = set()\n",
    "for n in g.all_nodes():\n",
    "    if isinstance(n, Literal):\n",
    "        removeset.add(n)\n",
    "for n in removeset:\n",
    "    g.remove((None, None, n))\n",
    "    g.remove((n, None, None))\n",
    "base_nxg = rdflib_to_networkx_multidigraph(g)\n",
    "sig = Sigma(base_nxg, label_density=2, default_edge_type=\"arrow\")\n",
    "sig"
   ]
  },
  {
   "cell_type": "code",
   "execution_count": 24,
   "id": "5090c188-e4e1-4174-8426-2a9bec14db62",
   "metadata": {},
   "outputs": [
    {
     "data": {
      "application/vnd.jupyter.widget-view+json": {
       "model_id": "fc6a118c20634fb8860489396e119992",
       "version_major": 2,
       "version_minor": 0
      },
      "text/plain": [
       "Sigma(nx.MultiDiGraph with 9 nodes and 13 edges)"
      ]
     },
     "execution_count": 24,
     "metadata": {},
     "output_type": "execute_result"
    }
   ],
   "source": [
    "g = Graph()\n",
    "g.parse((DATA_DIR / \"pred_path.ttl\").resolve())\n",
    "sig = setup_sigma_graph(g)\n",
    "sig"
   ]
  },
  {
   "cell_type": "code",
   "execution_count": 25,
   "id": "9c6dcea2-f5ed-418c-9aa0-aba5f65fce65",
   "metadata": {},
   "outputs": [
    {
     "data": {
      "application/vnd.jupyter.widget-view+json": {
       "model_id": "5e82995353d74b3d9dd30a6e1416b539",
       "version_major": 2,
       "version_minor": 0
      },
      "text/plain": [
       "Sigma(nx.MultiDiGraph with 234 nodes and 248 edges)"
      ]
     },
     "execution_count": 25,
     "metadata": {},
     "output_type": "execute_result"
    }
   ],
   "source": [
    "g = Graph()\n",
    "g.parse((DATA_DIR / \"fc_mini.ttl\").resolve())\n",
    "sig = setup_sigma_graph(g)\n",
    "sig"
   ]
  },
  {
   "cell_type": "code",
   "execution_count": 26,
   "id": "b026fa52-f8f1-4aff-bfc4-befffe6a0707",
   "metadata": {},
   "outputs": [
    {
     "data": {
      "application/vnd.jupyter.widget-view+json": {
       "model_id": "717b09c154db46ffae1f718e1e38f7ec",
       "version_major": 2,
       "version_minor": 0
      },
      "text/plain": [
       "Sigma(nx.MultiDiGraph with 139,131 nodes and 255,473 edges)"
      ]
     },
     "execution_count": 26,
     "metadata": {},
     "output_type": "execute_result"
    }
   ],
   "source": [
    "g = Graph()\n",
    "g.parse((DATA_DIR / \"fc_three.ttl\").resolve())\n",
    "sig = setup_sigma_graph(g)\n",
    "sig"
   ]
  },
  {
   "cell_type": "code",
   "execution_count": null,
   "id": "fc893d08-e655-4473-82e1-07d4522d923a",
   "metadata": {},
   "outputs": [],
   "source": []
  }
 ],
 "metadata": {
  "kernelspec": {
   "display_name": "Python 3 (ipykernel)",
   "language": "python",
   "name": "python3"
  },
  "language_info": {
   "codemirror_mode": {
    "name": "ipython",
    "version": 3
   },
   "file_extension": ".py",
   "mimetype": "text/x-python",
   "name": "python",
   "nbconvert_exporter": "python",
   "pygments_lexer": "ipython3",
   "version": "3.10.11"
  }
 },
 "nbformat": 4,
 "nbformat_minor": 5
}
